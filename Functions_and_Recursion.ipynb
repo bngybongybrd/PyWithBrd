{
  "nbformat": 4,
  "nbformat_minor": 0,
  "metadata": {
    "colab": {
      "provenance": [],
      "authorship_tag": "ABX9TyOU6qsGNDLu5e9CgehTUGuQ",
      "include_colab_link": true
    },
    "kernelspec": {
      "name": "python3",
      "display_name": "Python 3"
    },
    "language_info": {
      "name": "python"
    }
  },
  "cells": [
    {
      "cell_type": "markdown",
      "metadata": {
        "id": "view-in-github",
        "colab_type": "text"
      },
      "source": [
        "<a href=\"https://colab.research.google.com/github/bngybongybrd/PyWithBrd/blob/main/Functions_and_Recursion.ipynb\" target=\"_parent\"><img src=\"https://colab.research.google.com/assets/colab-badge.svg\" alt=\"Open In Colab\"/></a>"
      ]
    },
    {
      "cell_type": "markdown",
      "source": [
        "# Functions"
      ],
      "metadata": {
        "id": "X8GcFQEOtfHs"
      }
    },
    {
      "cell_type": "markdown",
      "source": [
        "Why use functions\n",
        "- Way to organize code for reusability\n",
        "- Reduce many lines of written code\n",
        "- Make it more readable and understandable\n"
      ],
      "metadata": {
        "id": "UdSKbHXstinY"
      }
    },
    {
      "cell_type": "code",
      "execution_count": null,
      "metadata": {
        "id": "-brpbk4udQGT"
      },
      "outputs": [],
      "source": [
        "# Syntax of defining a function\n",
        "def function_name(parameter1, parameter2):\n",
        "  # Things what want to do in the function\n",
        "  return result"
      ]
    },
    {
      "cell_type": "markdown",
      "source": [
        "### Example 1: Calculate BMI given mass and height"
      ],
      "metadata": {
        "id": "wo-rUxLwuAaR"
      }
    },
    {
      "cell_type": "markdown",
      "source": [
        "![image.png](data:image/png;base64,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)"
      ],
      "metadata": {
        "id": "wtYVRC4c4WhO"
      }
    },
    {
      "cell_type": "code",
      "source": [
        "def bmi(mass, height):\n",
        "  # mass: kg, height: m\n",
        "  result = mass / (height*height)\n",
        "  if result < 18.5:\n",
        "    category =  'Underweight'\n",
        "  elif 18.5 <= result <= 22.9:\n",
        "    category =  'Normal'\n",
        "  elif 23.0 <= result <= 29.9:\n",
        "    category =  'Overweight'\n",
        "  else:\n",
        "    category =  'Obese'\n",
        "  return [round(result, 2), category]\n",
        "\n",
        "print(bmi(50, 1.5))\n",
        "\n",
        "print(bmi(60, 1.5))"
      ],
      "metadata": {
        "id": "jiuIhacAuF8R",
        "colab": {
          "base_uri": "https://localhost:8080/"
        },
        "outputId": "b2eb989c-b13a-4af5-e083-afd0e5a7ef11"
      },
      "execution_count": null,
      "outputs": [
        {
          "output_type": "stream",
          "name": "stdout",
          "text": [
            "[22.22, 'Normal']\n",
            "[26.67, 'Overweight']\n"
          ]
        }
      ]
    },
    {
      "cell_type": "markdown",
      "source": [
        "# Recursion\n"
      ],
      "metadata": {
        "id": "VWNlZbDcuYF0"
      }
    },
    {
      "cell_type": "markdown",
      "source": [
        "- When a function calls itself\n",
        "\n",
        "- It is used when there is a pattern, i.e. when the subproblem is similar to the main problem itself"
      ],
      "metadata": {
        "id": "MnTGIFqsvOxE"
      }
    },
    {
      "cell_type": "markdown",
      "source": [
        "*We do not care what the program does to achieve the smaller version of the function, we just call it to help us compute the value/solution"
      ],
      "metadata": {
        "id": "g92s28B7zyFD"
      }
    },
    {
      "cell_type": "markdown",
      "source": [
        "Base case\n",
        "\n",
        "- A condition for the recursion to stop (if not it will run forever)"
      ],
      "metadata": {
        "id": "HgCOYfg8v5Yo"
      }
    },
    {
      "cell_type": "markdown",
      "source": [
        "A simple usage of a resursive function can be as simple as counting down numbers from 10 to 1"
      ],
      "metadata": {
        "id": "wnenR18GvibA"
      }
    },
    {
      "cell_type": "code",
      "source": [
        "def r_count(num):\n",
        "  # base case\n",
        "  if num == 1:\n",
        "    return 1\n",
        "  else:\n",
        "    print(num)\n",
        "    return r_count(num-1)\n",
        "\n",
        "r_count(10)"
      ],
      "metadata": {
        "id": "lf1lnfjfvyJA",
        "colab": {
          "base_uri": "https://localhost:8080/"
        },
        "outputId": "99b7b3a2-c588-40df-a617-a364fe9ba1bb"
      },
      "execution_count": null,
      "outputs": [
        {
          "output_type": "stream",
          "name": "stdout",
          "text": [
            "10\n",
            "9\n",
            "8\n",
            "7\n",
            "6\n",
            "5\n",
            "4\n",
            "3\n",
            "2\n"
          ]
        },
        {
          "output_type": "execute_result",
          "data": {
            "text/plain": [
              "1"
            ]
          },
          "metadata": {},
          "execution_count": 54
        }
      ]
    },
    {
      "cell_type": "markdown",
      "source": [
        "Example: Check if palindrome\n",
        "\n",
        "- Palindromes are words (or numbers) that, when their orders are reversed, it is the same word (or number)"
      ],
      "metadata": {
        "id": "tdkE21ERwsJQ"
      }
    },
    {
      "cell_type": "code",
      "source": [
        "# checks if word is palindrome\n",
        "def palindrome_check(word):\n",
        "  if len(word) <= 1:\n",
        "    return True\n",
        "  elif word[0] == word[-1]:\n",
        "    return palindrome_check(word[1:-1])\n",
        "  else:\n",
        "    return False\n",
        "\n",
        "\n",
        "print(palindrome_check('ersdd'))"
      ],
      "metadata": {
        "id": "NL2hNRLUzEMa",
        "colab": {
          "base_uri": "https://localhost:8080/"
        },
        "outputId": "a4159e03-d056-4611-c3fd-b65db325a015"
      },
      "execution_count": null,
      "outputs": [
        {
          "output_type": "stream",
          "name": "stdout",
          "text": [
            "False\n"
          ]
        }
      ]
    },
    {
      "cell_type": "markdown",
      "source": [
        "### Extra example"
      ],
      "metadata": {
        "id": "6__Zk6QnDobq"
      }
    },
    {
      "cell_type": "markdown",
      "source": [
        "Tower of hanoi\n",
        "\n",
        "Great example of 'We do not care what (or how) the program does to achieve the solution'.\\\n",
        "We only have to understand the main before coding it out the recursion to help us solve the smaller subproblems"
      ],
      "metadata": {
        "id": "o6_bTq5MzU41"
      }
    },
    {
      "cell_type": "code",
      "source": [
        "def hanoi(n, start, target, auxiliary):\n",
        "    if n > 0:\n",
        "        # Move n-1 disks from source to auxiliary peg\n",
        "        hanoi(n-1, start, auxiliary, target)\n",
        "        # Move the nth disk from source to target peg\n",
        "        print(f\"Move disk {n} from {start} to {target}\")\n",
        "        # Move the n-1 disks from auxiliary to target peg\n",
        "        hanoi(n-1, auxiliary, target, start)\n",
        "\n",
        "# Example usage\n",
        "hanoi(3, 'A', 'C', 'B')"
      ],
      "metadata": {
        "id": "jgw_hDXSwiFg",
        "colab": {
          "base_uri": "https://localhost:8080/"
        },
        "outputId": "77502f13-43e1-45ef-ce9c-3253178dc501"
      },
      "execution_count": null,
      "outputs": [
        {
          "output_type": "stream",
          "name": "stdout",
          "text": [
            "Move disk 1 from A to C\n",
            "Move disk 2 from A to B\n",
            "Move disk 1 from C to B\n",
            "Move disk 3 from A to C\n",
            "Move disk 1 from B to A\n",
            "Move disk 2 from B to C\n",
            "Move disk 1 from A to C\n"
          ]
        }
      ]
    }
  ]
}