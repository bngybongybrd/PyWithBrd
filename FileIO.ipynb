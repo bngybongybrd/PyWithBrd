{
  "nbformat": 4,
  "nbformat_minor": 0,
  "metadata": {
    "colab": {
      "provenance": [],
      "authorship_tag": "ABX9TyOnDg/e2lKaP12u6J2/4Hwg",
      "include_colab_link": true
    },
    "kernelspec": {
      "name": "python3",
      "display_name": "Python 3"
    },
    "language_info": {
      "name": "python"
    }
  },
  "cells": [
    {
      "cell_type": "markdown",
      "metadata": {
        "id": "view-in-github",
        "colab_type": "text"
      },
      "source": [
        "<a href=\"https://colab.research.google.com/github/bngybongybrd/PyWithBrd/blob/main/FileIO.ipynb\" target=\"_parent\"><img src=\"https://colab.research.google.com/assets/colab-badge.svg\" alt=\"Open In Colab\"/></a>"
      ]
    },
    {
      "cell_type": "markdown",
      "source": [
        "# File Input Output\n"
      ],
      "metadata": {
        "id": "q-9ObWHs1FFg"
      }
    },
    {
      "cell_type": "markdown",
      "source": [
        "Used for data storage, logging information, read data off files"
      ],
      "metadata": {
        "id": "dF7vkjdqLegz"
      }
    },
    {
      "cell_type": "markdown",
      "source": [
        "### Opening and Closing of files"
      ],
      "metadata": {
        "id": "mq0G3GTdMIxw"
      }
    },
    {
      "cell_type": "code",
      "execution_count": null,
      "metadata": {
        "id": "GwHZcC5D1A0t"
      },
      "outputs": [],
      "source": [
        "# Opening and closing of files\n",
        "file = open(\"Newfile.txt\", \"x\")\n",
        "\n",
        "# Important\n",
        "file.close()"
      ]
    },
    {
      "cell_type": "markdown",
      "source": [
        "### Reading from files"
      ],
      "metadata": {
        "id": "MctyoenWMHeO"
      }
    },
    {
      "cell_type": "markdown",
      "source": [
        "2 ways to read files"
      ],
      "metadata": {
        "id": "lYl6Oc38Mp6L"
      }
    },
    {
      "cell_type": "markdown",
      "source": [
        "Simplest way to open\n",
        "\n",
        "To read, add 'r' to the second parameter"
      ],
      "metadata": {
        "id": "BjTUWYNyNQB2"
      }
    },
    {
      "cell_type": "code",
      "source": [
        "# 1\n",
        "file = open(\"Contents.txt\", \"r\")\n",
        "\n",
        "print(file.read())\n",
        "\n",
        "file.close()"
      ],
      "metadata": {
        "id": "aJMA5LDYMrdC",
        "colab": {
          "base_uri": "https://localhost:8080/"
        },
        "outputId": "50f5a54c-a596-4bd6-89d5-fd380b334431"
      },
      "execution_count": null,
      "outputs": [
        {
          "output_type": "stream",
          "name": "stdout",
          "text": [
            "Hello\n",
            "these\n",
            "are\n",
            "the\n",
            "contents\n",
            "in\n",
            "file\n"
          ]
        }
      ]
    },
    {
      "cell_type": "markdown",
      "source": [
        "Usually better as it:\n",
        "- Makes the code cleaner\n",
        "- Eliminates the file.close() statement as it automatically closes when the with statement is exited"
      ],
      "metadata": {
        "id": "EsOP5BZsM_Y1"
      }
    },
    {
      "cell_type": "code",
      "source": [
        "# 2\n",
        "# .read(), .readline() and .readlines()\n",
        "with open(\"Contents.txt\") as file:\n",
        "  contents = file.read()\n",
        "\n",
        "print(contents)"
      ],
      "metadata": {
        "id": "2VexgRVaMF8a",
        "colab": {
          "base_uri": "https://localhost:8080/"
        },
        "outputId": "5f32537d-4571-4df1-ddcc-5eafcd73b101"
      },
      "execution_count": null,
      "outputs": [
        {
          "output_type": "stream",
          "name": "stdout",
          "text": [
            "Hello\n",
            "these\n",
            "are\n",
            "the\n",
            "contents\n",
            "in\n",
            "file\n"
          ]
        }
      ]
    },
    {
      "cell_type": "code",
      "source": [
        "with open(\"Contents.txt\", \"r\") as file:\n",
        "  line1 = file.readline()\n",
        "  line2 = file.readline()\n",
        "  line3 = file.readline()\n",
        "\n",
        "print(line1)\n",
        "print(line2)\n",
        "print(line3)"
      ],
      "metadata": {
        "colab": {
          "base_uri": "https://localhost:8080/"
        },
        "id": "wjtjerl6XIcA",
        "outputId": "8f0bb393-9acf-4f08-88df-c6365f67d3ac"
      },
      "execution_count": null,
      "outputs": [
        {
          "output_type": "stream",
          "name": "stdout",
          "text": [
            "Hello\n",
            "\n",
            "these\n",
            "\n",
            "are\n",
            "\n"
          ]
        }
      ]
    },
    {
      "cell_type": "code",
      "source": [
        "with open(\"Contents.txt\", \"r\") as file:\n",
        "  contents = file.readlines()\n",
        "\n",
        "print(contents)"
      ],
      "metadata": {
        "colab": {
          "base_uri": "https://localhost:8080/"
        },
        "id": "n01HvA4XXIjH",
        "outputId": "6adc8690-9309-4023-d0ee-8dc57820ed91"
      },
      "execution_count": null,
      "outputs": [
        {
          "output_type": "stream",
          "name": "stdout",
          "text": [
            "['Hello\\n', 'these\\n', 'are\\n', 'the\\n', 'contents\\n', 'in\\n', 'file']\n"
          ]
        }
      ]
    },
    {
      "cell_type": "markdown",
      "source": [
        "### Writing to files"
      ],
      "metadata": {
        "id": "UhNPQf7bNjUw"
      }
    },
    {
      "cell_type": "code",
      "source": [
        "# .write()\n",
        "with open(\"Contents.txt\", \"w\") as file:\n",
        "  file.write(\"This is new content\")\n",
        "\n",
        "with open(\"Contents.txt\", \"r\") as file:\n",
        "  contents = file.readlines()\n",
        "\n",
        "print(contents)"
      ],
      "metadata": {
        "id": "zhB9jmCBNnA2",
        "colab": {
          "base_uri": "https://localhost:8080/"
        },
        "outputId": "4c202531-3304-4791-cb9b-376c9c69fe27"
      },
      "execution_count": null,
      "outputs": [
        {
          "output_type": "stream",
          "name": "stdout",
          "text": [
            "['This is new content']\n"
          ]
        }
      ]
    },
    {
      "cell_type": "markdown",
      "source": [
        "### Append"
      ],
      "metadata": {
        "id": "vkLn-gs5Og_a"
      }
    },
    {
      "cell_type": "code",
      "source": [
        "# 'a'\n",
        "with open(\"Contents.txt\", \"a\") as file:\n",
        "  file.write(\"This is new content\")\n",
        "\n",
        "print(contents)"
      ],
      "metadata": {
        "id": "KTEBhIKfOi_B",
        "colab": {
          "base_uri": "https://localhost:8080/"
        },
        "outputId": "d156a28b-e813-4ebd-ad52-f452907e37aa"
      },
      "execution_count": null,
      "outputs": [
        {
          "output_type": "stream",
          "name": "stdout",
          "text": [
            "['This is new content']\n"
          ]
        }
      ]
    }
  ]
}