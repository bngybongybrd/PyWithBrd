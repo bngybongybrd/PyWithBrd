{
  "nbformat": 4,
  "nbformat_minor": 0,
  "metadata": {
    "colab": {
      "provenance": [],
      "authorship_tag": "ABX9TyMFWBuvWxd+z6aagFcZiP4O",
      "include_colab_link": true
    },
    "kernelspec": {
      "name": "python3",
      "display_name": "Python 3"
    },
    "language_info": {
      "name": "python"
    }
  },
  "cells": [
    {
      "cell_type": "markdown",
      "metadata": {
        "id": "view-in-github",
        "colab_type": "text"
      },
      "source": [
        "<a href=\"https://colab.research.google.com/github/bngybongybrd/PyWithBrd/blob/main/FileIO.ipynb\" target=\"_parent\"><img src=\"https://colab.research.google.com/assets/colab-badge.svg\" alt=\"Open In Colab\"/></a>"
      ]
    },
    {
      "cell_type": "markdown",
      "source": [
        "# File Input Output\n"
      ],
      "metadata": {
        "id": "q-9ObWHs1FFg"
      }
    },
    {
      "cell_type": "markdown",
      "source": [
        "Used for data storage, logging information, read data off files"
      ],
      "metadata": {
        "id": "dF7vkjdqLegz"
      }
    },
    {
      "cell_type": "markdown",
      "source": [
        "### Opening and Closing of files"
      ],
      "metadata": {
        "id": "mq0G3GTdMIxw"
      }
    },
    {
      "cell_type": "code",
      "execution_count": null,
      "metadata": {
        "id": "GwHZcC5D1A0t"
      },
      "outputs": [],
      "source": [
        "# Opening and closing of files\n",
        "file = open(\"Newfile.txt\", \"x\")\n",
        "\n",
        "# Important\n",
        "file.close()"
      ]
    },
    {
      "cell_type": "markdown",
      "source": [
        "### Reading from files"
      ],
      "metadata": {
        "id": "MctyoenWMHeO"
      }
    },
    {
      "cell_type": "markdown",
      "source": [
        "2 ways to read files"
      ],
      "metadata": {
        "id": "lYl6Oc38Mp6L"
      }
    },
    {
      "cell_type": "markdown",
      "source": [
        "Simplest way to open\n",
        "\n",
        "To read, add 'r' to the second parameter"
      ],
      "metadata": {
        "id": "BjTUWYNyNQB2"
      }
    },
    {
      "cell_type": "code",
      "source": [
        "# 1\n",
        "file = open(\"Contents.txt\", \"r\")\n",
        "\n",
        "print(file.read())\n",
        "\n",
        "file.close()"
      ],
      "metadata": {
        "id": "aJMA5LDYMrdC",
        "colab": {
          "base_uri": "https://localhost:8080/"
        },
        "outputId": "50f5a54c-a596-4bd6-89d5-fd380b334431"
      },
      "execution_count": null,
      "outputs": [
        {
          "output_type": "stream",
          "name": "stdout",
          "text": [
            "Hello\n",
            "these\n",
            "are\n",
            "the\n",
            "contents\n",
            "in\n",
            "file\n"
          ]
        }
      ]
    },
    {
      "cell_type": "markdown",
      "source": [
        "Usually better as it:\n",
        "- Makes the code cleaner\n",
        "- Eliminates the file.close() statement as it automatically closes when the with statement is exited"
      ],
      "metadata": {
        "id": "EsOP5BZsM_Y1"
      }
    },
    {
      "cell_type": "code",
      "source": [
        "# 2\n",
        "# .read(), .readline() and .readlines()\n",
        "with open(\"Contents.txt\") as file:\n",
        "  contents = file.read()\n",
        "\n",
        "print(contents)"
      ],
      "metadata": {
        "id": "2VexgRVaMF8a",
        "colab": {
          "base_uri": "https://localhost:8080/"
        },
        "outputId": "5f32537d-4571-4df1-ddcc-5eafcd73b101"
      },
      "execution_count": null,
      "outputs": [
        {
          "output_type": "stream",
          "name": "stdout",
          "text": [
            "Hello\n",
            "these\n",
            "are\n",
            "the\n",
            "contents\n",
            "in\n",
            "file\n"
          ]
        }
      ]
    },
    {
      "cell_type": "code",
      "source": [
        "with open(\"Contents.txt\", \"r\") as file:\n",
        "  line1 = file.readline()\n",
        "  line2 = file.readline()\n",
        "  line3 = file.readline()\n",
        "\n",
        "print(line1)\n",
        "print(line2)\n",
        "print(line3)"
      ],
      "metadata": {
        "colab": {
          "base_uri": "https://localhost:8080/"
        },
        "id": "wjtjerl6XIcA",
        "outputId": "8f0bb393-9acf-4f08-88df-c6365f67d3ac"
      },
      "execution_count": null,
      "outputs": [
        {
          "output_type": "stream",
          "name": "stdout",
          "text": [
            "Hello\n",
            "\n",
            "these\n",
            "\n",
            "are\n",
            "\n"
          ]
        }
      ]
    },
    {
      "cell_type": "code",
      "source": [
        "with open(\"Contents.txt\", \"r\") as file:\n",
        "  contents = file.readlines()\n",
        "\n",
        "print(contents)"
      ],
      "metadata": {
        "colab": {
          "base_uri": "https://localhost:8080/"
        },
        "id": "n01HvA4XXIjH",
        "outputId": "6adc8690-9309-4023-d0ee-8dc57820ed91"
      },
      "execution_count": null,
      "outputs": [
        {
          "output_type": "stream",
          "name": "stdout",
          "text": [
            "['Hello\\n', 'these\\n', 'are\\n', 'the\\n', 'contents\\n', 'in\\n', 'file']\n"
          ]
        }
      ]
    },
    {
      "cell_type": "markdown",
      "source": [
        "### Writing to files"
      ],
      "metadata": {
        "id": "UhNPQf7bNjUw"
      }
    },
    {
      "cell_type": "code",
      "source": [
        "# .write()\n",
        "with open(\"Contents.txt\", \"w\") as file:\n",
        "  file.write(\"This is new content\")\n",
        "\n",
        "with open(\"Contents.txt\", \"r\") as file:\n",
        "  contents = file.readlines()\n",
        "\n",
        "print(contents)"
      ],
      "metadata": {
        "id": "zhB9jmCBNnA2",
        "colab": {
          "base_uri": "https://localhost:8080/"
        },
        "outputId": "4c202531-3304-4791-cb9b-376c9c69fe27"
      },
      "execution_count": null,
      "outputs": [
        {
          "output_type": "stream",
          "name": "stdout",
          "text": [
            "['This is new content']\n"
          ]
        }
      ]
    },
    {
      "cell_type": "markdown",
      "source": [
        "### Append"
      ],
      "metadata": {
        "id": "vkLn-gs5Og_a"
      }
    },
    {
      "cell_type": "code",
      "source": [
        "# 'a'\n",
        "with open(\"Contents.txt\", \"a\") as file:\n",
        "  file.write(\"This is new content\")\n",
        "\n",
        "print(contents)"
      ],
      "metadata": {
        "id": "KTEBhIKfOi_B",
        "colab": {
          "base_uri": "https://localhost:8080/"
        },
        "outputId": "d156a28b-e813-4ebd-ad52-f452907e37aa"
      },
      "execution_count": null,
      "outputs": [
        {
          "output_type": "stream",
          "name": "stdout",
          "text": [
            "['This is new content']\n"
          ]
        }
      ]
    },
    {
      "cell_type": "markdown",
      "source": [
        "# CSV"
      ],
      "metadata": {
        "id": "_1TEEcmDU23w"
      }
    },
    {
      "cell_type": "markdown",
      "source": [
        "Comma Separated Values\n",
        "- Similar to text files, but need to use csv module\n",
        "- Simple and widely used file format for storing tabular data (numbers and text) in plain text.\n",
        "- Each line represents a row of data, and the values in each row are separated by commas (or other delimiters like semicolons or tabs).\n",
        "- CSV files are commonly used for exchanging data between different applications, such as spreadsheet software (like Microsoft Excel or Google Sheets) and databases."
      ],
      "metadata": {
        "id": "60ZdN2Z4bkfy"
      }
    },
    {
      "cell_type": "code",
      "source": [
        "import csv\n",
        "\n",
        "# Open the CSV file\n",
        "with open('color_srgb.csv', 'r', encoding=\"utf-8-sig\") as file:\n",
        "  csv_reader = csv.reader(file)\n",
        "\n",
        "  for row in csv_reader:\n",
        "    print(row)"
      ],
      "metadata": {
        "colab": {
          "base_uri": "https://localhost:8080/"
        },
        "id": "3EbGWlpZU2S9",
        "outputId": "addd7233-e884-4e84-e364-f26760f456a8"
      },
      "execution_count": 31,
      "outputs": [
        {
          "output_type": "stream",
          "name": "stdout",
          "text": [
            "['Name', 'HEX', 'RGB']\n",
            "['White', '#FFFFFF', 'rgb(100,100,100)']\n",
            "['Silver', '#C0C0C0', 'rgb(75,75,75)']\n",
            "['Gray', '#808080', 'rgb(50,50,50)']\n",
            "['Black', '#000000', 'rgb(0,0,0)']\n",
            "['Red', '#FF0000', 'rgb(100,0,0)']\n",
            "['Maroon', '#800000', 'rgb(50,0,0)']\n",
            "['Yellow', '#FFFF00', 'rgb(100,100,0)']\n",
            "['Olive', '#808000', 'rgb(50,50,0)']\n",
            "['Lime', '#00FF00', 'rgb(0,100,0)']\n",
            "['Green', '#008000', 'rgb(0,50,0)']\n",
            "['Aqua', '#00FFFF', 'rgb(0,100,100)']\n",
            "['Teal', '#008080', 'rgb(0,50,50)']\n",
            "['Blue', '#0000FF', 'rgb(0,0,100)']\n",
            "['Navy', '#000080', 'rgb(0,0,50)']\n",
            "['Fuchsia', '#FF00FF', 'rgb(100,0,100)']\n",
            "['Purple', '#800080', 'rgb(50,0,50)']\n"
          ]
        }
      ]
    },
    {
      "cell_type": "code",
      "source": [
        "# Open the CSV file\n",
        "with open('color_srgb.csv', 'r', encoding=\"utf-8-sig\") as file:\n",
        "    csv_reader = csv.DictReader(file)\n",
        "\n",
        "    data_list = []\n",
        "\n",
        "    for row in csv_reader:\n",
        "        data_list.append(row)\n",
        "\n",
        "for data in data_list:\n",
        "    print(data)"
      ],
      "metadata": {
        "colab": {
          "base_uri": "https://localhost:8080/"
        },
        "id": "eyDPOD4dZy9N",
        "outputId": "b3bdac45-31d9-484a-e936-a06d3586b396"
      },
      "execution_count": 33,
      "outputs": [
        {
          "output_type": "stream",
          "name": "stdout",
          "text": [
            "{'Name': 'White', 'HEX': '#FFFFFF', 'RGB': 'rgb(100,100,100)'}\n",
            "{'Name': 'Silver', 'HEX': '#C0C0C0', 'RGB': 'rgb(75,75,75)'}\n",
            "{'Name': 'Gray', 'HEX': '#808080', 'RGB': 'rgb(50,50,50)'}\n",
            "{'Name': 'Black', 'HEX': '#000000', 'RGB': 'rgb(0,0,0)'}\n",
            "{'Name': 'Red', 'HEX': '#FF0000', 'RGB': 'rgb(100,0,0)'}\n",
            "{'Name': 'Maroon', 'HEX': '#800000', 'RGB': 'rgb(50,0,0)'}\n",
            "{'Name': 'Yellow', 'HEX': '#FFFF00', 'RGB': 'rgb(100,100,0)'}\n",
            "{'Name': 'Olive', 'HEX': '#808000', 'RGB': 'rgb(50,50,0)'}\n",
            "{'Name': 'Lime', 'HEX': '#00FF00', 'RGB': 'rgb(0,100,0)'}\n",
            "{'Name': 'Green', 'HEX': '#008000', 'RGB': 'rgb(0,50,0)'}\n",
            "{'Name': 'Aqua', 'HEX': '#00FFFF', 'RGB': 'rgb(0,100,100)'}\n",
            "{'Name': 'Teal', 'HEX': '#008080', 'RGB': 'rgb(0,50,50)'}\n",
            "{'Name': 'Blue', 'HEX': '#0000FF', 'RGB': 'rgb(0,0,100)'}\n",
            "{'Name': 'Navy', 'HEX': '#000080', 'RGB': 'rgb(0,0,50)'}\n",
            "{'Name': 'Fuchsia', 'HEX': '#FF00FF', 'RGB': 'rgb(100,0,100)'}\n",
            "{'Name': 'Purple', 'HEX': '#800080', 'RGB': 'rgb(50,0,50)'}\n"
          ]
        }
      ]
    },
    {
      "cell_type": "markdown",
      "source": [
        "# Json\n"
      ],
      "metadata": {
        "id": "zYFzw9moU5dl"
      }
    },
    {
      "cell_type": "markdown",
      "source": [
        "\n",
        "JavaScript Object Notation.\n",
        "- Lightweight data interchange format that is easy for humans to read and write and easy for machines to parse and generate.\n",
        "- Often used to transmit data between a server and a web application, as well as to store and exchange information in a structured way."
      ],
      "metadata": {
        "id": "At9BsvA0iwBQ"
      }
    },
    {
      "cell_type": "markdown",
      "source": [
        "Python to Json"
      ],
      "metadata": {
        "id": "o-hjCR3RVCBl"
      }
    },
    {
      "cell_type": "code",
      "source": [
        "import json\n",
        "\n",
        "data = {\n",
        "    'Name': 'White',\n",
        "    'HEX': '#FFFFFF',\n",
        "    'RGB': 'rgb(100,100,100)'\n",
        "}\n",
        "\n",
        "# Convert the dictionary to a JSON string\n",
        "json_data = json.dumps(data)\n",
        "\n",
        "# Print the JSON string\n",
        "print(json_data)\n",
        "\n",
        "print(type(json_data))"
      ],
      "metadata": {
        "colab": {
          "base_uri": "https://localhost:8080/"
        },
        "id": "a0pe3ZWIVBsj",
        "outputId": "92c29afe-4663-4a5b-f9d5-65d27d32c4c4"
      },
      "execution_count": 52,
      "outputs": [
        {
          "output_type": "stream",
          "name": "stdout",
          "text": [
            "{\"Name\": \"White\", \"HEX\": \"#FFFFFF\", \"RGB\": \"rgb(100,100,100)\"}\n",
            "<class 'str'>\n"
          ]
        }
      ]
    },
    {
      "cell_type": "markdown",
      "source": [
        "Json to Python\n"
      ],
      "metadata": {
        "id": "tRl3swO8VFYT"
      }
    },
    {
      "cell_type": "code",
      "source": [
        "import json\n",
        "\n",
        "# JSON-formatted string\n",
        "json_data = '{\"Name\": \"White\", \"HEX\": \"#FFFFFF\", \"RGB\": \"rgb(100,100,100)\"}'\n",
        "\n",
        "# Convert the JSON string to a Python dictionary\n",
        "data = json.loads(json_data)\n",
        "\n",
        "# Accessing values in the dictionary\n",
        "print(\"Name:\", data[\"Name\"])\n",
        "print(\"HEX:\", data[\"HEX\"])\n",
        "print(\"RGB:\", data[\"RGB\"])\n",
        "\n",
        "print(type(data))\n"
      ],
      "metadata": {
        "colab": {
          "base_uri": "https://localhost:8080/"
        },
        "id": "KideLkB_U8CK",
        "outputId": "d70f6323-5200-45d7-ec42-2968698158a6"
      },
      "execution_count": 53,
      "outputs": [
        {
          "output_type": "stream",
          "name": "stdout",
          "text": [
            "Name: White\n",
            "HEX: #FFFFFF\n",
            "RGB: rgb(100,100,100)\n",
            "<class 'dict'>\n"
          ]
        }
      ]
    },
    {
      "cell_type": "markdown",
      "source": [
        "Read and Write to Json"
      ],
      "metadata": {
        "id": "PlDNEWD3VLwQ"
      }
    },
    {
      "cell_type": "code",
      "source": [
        "# Reading JSON from file\n",
        "with open('data.json', 'r') as file:\n",
        "    loaded_data = json.load(file)\n",
        "    print(loaded_data)\n",
        "    print(type(loaded_data))\n",
        "\n",
        "data = {'Name': 'Silver', 'HEX': '#C0C0C0', 'RGB': 'rgb(75,75,75)'}\n",
        "\n",
        "loaded_data.update(data)\n",
        "\n",
        "\n",
        "# # Writing JSON to file\n",
        "with open('data.json', 'w') as file:\n",
        "  json.dump(loaded_data, file)"
      ],
      "metadata": {
        "colab": {
          "base_uri": "https://localhost:8080/"
        },
        "id": "hy-eeHkkVK6T",
        "outputId": "716c7c53-47a7-4036-cf22-a0dbaafeb0f4"
      },
      "execution_count": 57,
      "outputs": [
        {
          "output_type": "stream",
          "name": "stdout",
          "text": [
            "{'Name': 'White', 'HEX': '#FFFFFF', 'RGB': 'rgb(100,100,100)'}\n",
            "<class 'dict'>\n"
          ]
        }
      ]
    },
    {
      "cell_type": "code",
      "source": [],
      "metadata": {
        "id": "zWlwo9z8pAkK"
      },
      "execution_count": null,
      "outputs": []
    }
  ]
}