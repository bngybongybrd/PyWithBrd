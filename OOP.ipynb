{
  "nbformat": 4,
  "nbformat_minor": 0,
  "metadata": {
    "colab": {
      "provenance": [],
      "authorship_tag": "ABX9TyMbz3PE6QBjGD6+wB0gB/DN",
      "include_colab_link": true
    },
    "kernelspec": {
      "name": "python3",
      "display_name": "Python 3"
    },
    "language_info": {
      "name": "python"
    }
  },
  "cells": [
    {
      "cell_type": "markdown",
      "metadata": {
        "id": "view-in-github",
        "colab_type": "text"
      },
      "source": [
        "<a href=\"https://colab.research.google.com/github/bngybongybrd/PyWithBrd/blob/main/OOP.ipynb\" target=\"_parent\"><img src=\"https://colab.research.google.com/assets/colab-badge.svg\" alt=\"Open In Colab\"/></a>"
      ]
    },
    {
      "cell_type": "markdown",
      "source": [
        "# Object Oriented Programming\n",
        "\n",
        "\n"
      ],
      "metadata": {
        "id": "lJWDqDtj1Z-n"
      }
    },
    {
      "cell_type": "markdown",
      "source": [
        "\n",
        "- Object-Oriented Programming (OOP) is a programming paradigm that organizes code into objects, which are instances of classes. It is based on the concept of \"objects,\" which can contain data (attributes) and code (methods) to manipulate that data.\n",
        "- Organises code in a way that models real-world entities and their interactions."
      ],
      "metadata": {
        "id": "gclNpV2Iuhtb"
      }
    },
    {
      "cell_type": "markdown",
      "source": [
        "3 Main concepts\n",
        "- Encapsulation (concept of bundling properties and\n",
        "methods together as a package)\n",
        "- Inheritance (concept of properties and methods in one\n",
        "class being shared with its subclass)\n",
        "- Polymorphism (concept of an object being able to take on\n",
        "multiple forms, where inherited subclass methods can be used in\n",
        "different ways\n",
        ")"
      ],
      "metadata": {
        "id": "OtI1LMXSunTR"
      }
    },
    {
      "cell_type": "markdown",
      "source": [
        "'self' parameter refers to the instance of the class itself. It is used to access and modify the instance's attributes and invoke other methods."
      ],
      "metadata": {
        "id": "6_vNr-yHt5sS"
      }
    },
    {
      "cell_type": "markdown",
      "source": [
        "## Bank Account System"
      ],
      "metadata": {
        "id": "2htCftkHuIbE"
      }
    },
    {
      "cell_type": "code",
      "source": [
        "# Bank Account System\n",
        "class Account():\n",
        "  '''\n",
        "  Attributes:\n",
        "  - account number\n",
        "  - balance\n",
        "  - transaction history\n",
        "\n",
        "  Setter Methods:\n",
        "  - deposit\n",
        "  - withdraw\n",
        "\n",
        "  Getter Methods:\n",
        "  - display balance\n",
        "  - display transaction history\n",
        "\n",
        "  Other:\n",
        "  - Record transaction\n",
        "  '''\n",
        "  def __init__(self, acc_num, balance):\n",
        "    self.acc_num = acc_num\n",
        "    self.balance = balance\n",
        "    self.transactionHistory = []\n",
        "\n",
        "  def deposit(self, amt):\n",
        "    if amt >= 0:\n",
        "      self.balance += amt\n",
        "      self.record_transaction(f\"Deposit {amt}\")\n",
        "      return \"Deposited\"\n",
        "    else:\n",
        "      return \"Enter valid amount\"\n",
        "\n",
        "  def withdraw(self, amt):\n",
        "    if amt > self.balance:\n",
        "      return \"Insufficient funds\"\n",
        "    if amt >= 0:\n",
        "      self.balance -= amt\n",
        "      self.record_transaction(f\"Withdrawn {amt}\")\n",
        "      return \"Withdrawn\"\n",
        "    else:\n",
        "      return \"Enter valid amount\"\n",
        "\n",
        "  def display_balance(self):\n",
        "    return self.balance\n",
        "\n",
        "  def display_transactionHistory(self):\n",
        "    return self.transactionHistory\n",
        "\n",
        "  def record_transaction(self, transaction):\n",
        "    self.transactionHistory.append(transaction)\n",
        "    return\n",
        "\n",
        "\n",
        "class SavingsAccount(Account): # Account for long term investment\n",
        "  '''\n",
        "  Illustrates inheritance: Inherits the attributes and methods of Account\n",
        "\n",
        "  Additional attritbutes:\n",
        "  - Interest rate\n",
        "\n",
        "  Additional methods:\n",
        "  - Apply interest rate\n",
        "  '''\n",
        "  def __init__(self, acc_num, balance, interest_rate):\n",
        "    super().__init__(acc_num, balance)\n",
        "    self.interest_rate = interest_rate\n",
        "\n",
        "  def apply_interest(self):\n",
        "    interest_amt = self.balance * self.interest_rate\n",
        "    self.balance += interest_amt\n",
        "    return f\"Interest applied. New balance: {self.balance}\"\n",
        "\n",
        "\n",
        "class CurrentAccount(Account): # Account for daily usage\n",
        "  '''\n",
        "  Illustrates inheritance: Inherits the attributes and methods of Account\n",
        "\n",
        "  Additional attributes:\n",
        "  - withdrawal limit\n",
        "\n",
        "  Methods changed:\n",
        "  - withdraw\n",
        "  (includes withdrawl limit, overides parent class method,\n",
        "  illustrates polymorphism)\n",
        "  '''\n",
        "  def __init__(self, acc_num, balance, withdrawal_limit):\n",
        "    super().__init__(acc_num, balance)\n",
        "    self.withdrawal_limit = withdrawal_limit\n",
        "\n",
        "  def withdraw(self, amt):\n",
        "    if amt > self.balance:\n",
        "      return \"Insufficient funds\"\n",
        "    if amt >= 0 and amt <= self.withdrawal_limit:\n",
        "      self.balance -= amt\n",
        "      self.record_transaction(f\"Withdrawn {amt}\")\n",
        "      return \"Withdrawn\"\n",
        "    else:\n",
        "      if amt > self.withdrawal_limit:\n",
        "        return \"Exceeds withdrawal limit\"\n",
        "      else:\n",
        "        return \"Enter valid amount\"\n",
        "\n",
        "\n",
        "# Create the object\n",
        "savings_account = SavingsAccount(\"ABC123\", 1000, 0.02)\n",
        "current_account = CurrentAccount(\"XYZ\", 500, 50)\n",
        "\n",
        "# Depositing\n",
        "print(savings_account.deposit(100))\n",
        "print(savings_account.apply_interest())\n",
        "print(current_account.deposit(200))\n",
        "accounts = [savings_account, current_account]\n",
        "\n",
        "for account in accounts:\n",
        "  print(account.display_balance())\n",
        "\n",
        "print(\"--------------------------------\")\n",
        "\n",
        "# Withdrawing check\n",
        "print(current_account.withdraw(51))\n",
        "print(current_account.withdraw(50))\n",
        "print(savings_account.withdraw(200))\n",
        "\n",
        "for account in accounts:\n",
        "  print(account.display_balance())\n",
        "\n",
        "for account in accounts:\n",
        "  print(account.display_transactionHistory())"
      ],
      "metadata": {
        "id": "_ZEhN-q4IEz_",
        "colab": {
          "base_uri": "https://localhost:8080/"
        },
        "outputId": "7b1e6262-bdfe-4b88-e798-9fb0e1d4a3b5"
      },
      "execution_count": null,
      "outputs": [
        {
          "output_type": "stream",
          "name": "stdout",
          "text": [
            "Deposited\n",
            "Interest applied. New balance: 1122.0\n",
            "Deposited\n",
            "1122.0\n",
            "700\n",
            "--------------------------------\n",
            "Exceeds withdrawal limit\n",
            "Withdrawn\n",
            "Withdrawn\n",
            "922.0\n",
            "650\n",
            "['Deposit 100', 'Withdrawn 200']\n",
            "['Deposit 200', 'Withdrawn 50']\n"
          ]
        }
      ]
    },
    {
      "cell_type": "markdown",
      "source": [
        "# Miscellaneous"
      ],
      "metadata": {
        "id": "fL0zay3guM24"
      }
    },
    {
      "cell_type": "code",
      "execution_count": null,
      "metadata": {
        "id": "AvRyQj5m1Xz9"
      },
      "outputs": [],
      "source": [
        "# Define a class for a Dog\n",
        "class Dog:\n",
        "  # Constructor\n",
        "  def __init__(self, name, age):\n",
        "    self.name = name\n",
        "    self.age = age\n",
        "\n",
        "  # Method to bark\n",
        "  def bark(self):\n",
        "    print(self.name + \" says: Bark!\")\n",
        "\n",
        "# Create an instance of the Dog class\n",
        "my_dog = Dog(\"Rex\", 3)\n",
        "\n",
        "# Call the bark method on the instance\n",
        "my_dog.bark()\n"
      ]
    },
    {
      "cell_type": "code",
      "source": [
        "# prompt: oop for an ecommerce platform\n",
        "\n",
        "class Customer:\n",
        "    '''\n",
        "    name:\n",
        "    email:\n",
        "    address:\n",
        "    wallet: amount of money in account\n",
        "    cart:\n",
        "    '''\n",
        "\n",
        "class Shop:\n",
        "\n",
        "class Product:\n",
        "  def __init__(self, name, price, quantity):\n",
        "    self.name = name\n",
        "    self.price = price\n",
        "    self.quantity = quantity\n",
        "\n",
        "class Order:\n",
        "  def __init__(self, customer_name, product, quantity):\n",
        "    self.customer_name = customer_name\n",
        "    self.product = product\n",
        "    self.quantity = quantity\n",
        "\n",
        "  def calculate_total(self):\n",
        "    return self.product.price * self.quantity\n",
        "\n",
        "class ShoppingCart:\n",
        "  def __init__(self):\n",
        "    self.items = []\n",
        "\n",
        "  def add_item(self, product, quantity):\n",
        "    self.items.append(Order(None, product, quantity))\n",
        "\n",
        "  def calculate_total(self):\n",
        "    total = 0\n",
        "    for item in self.items:\n",
        "      total += item.calculate_total()\n",
        "    return total\n",
        "\n",
        "# Create a product\n",
        "product = Product(\"Laptop\", 1000, 5)\n",
        "\n",
        "# Create a shopping cart\n",
        "cart = ShoppingCart()\n",
        "\n",
        "# Add the product to the cart\n",
        "cart.add_item(product, 2)\n",
        "\n",
        "# Calculate the total price\n",
        "total_price = cart.calculate_total()\n",
        "\n",
        "# Print the total price\n",
        "print(\"Total price:\", total_price)\n"
      ],
      "metadata": {
        "id": "wiq2I6MEA86D"
      },
      "execution_count": null,
      "outputs": []
    }
  ]
}