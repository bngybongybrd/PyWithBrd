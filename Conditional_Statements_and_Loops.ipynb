{
  "nbformat": 4,
  "nbformat_minor": 0,
  "metadata": {
    "colab": {
      "provenance": [],
      "authorship_tag": "ABX9TyP/Vr7Cq6ZVQUidendgGR90",
      "include_colab_link": true
    },
    "kernelspec": {
      "name": "python3",
      "display_name": "Python 3"
    },
    "language_info": {
      "name": "python"
    }
  },
  "cells": [
    {
      "cell_type": "markdown",
      "metadata": {
        "id": "view-in-github",
        "colab_type": "text"
      },
      "source": [
        "<a href=\"https://colab.research.google.com/github/bngybongybrd/PyWithBrd/blob/main/Conditional_Statements_and_Loops.ipynb\" target=\"_parent\"><img src=\"https://colab.research.google.com/assets/colab-badge.svg\" alt=\"Open In Colab\"/></a>"
      ]
    },
    {
      "cell_type": "markdown",
      "source": [
        "# Conditional Statements"
      ],
      "metadata": {
        "id": "K3tW3CFzNN9c"
      }
    },
    {
      "cell_type": "markdown",
      "source": [
        "- Allows the program to make **decisions**\n",
        "- Done in the form of If-Else statements\n"
      ],
      "metadata": {
        "id": "007GGZy1Ng7s"
      }
    },
    {
      "cell_type": "markdown",
      "source": [
        "Example 1: Check if a number is positive or negative\n"
      ],
      "metadata": {
        "id": "IYORlkdyOOp4"
      }
    },
    {
      "cell_type": "markdown",
      "source": [
        "### Code"
      ],
      "metadata": {
        "id": "hGaGClHiOnrk"
      }
    },
    {
      "cell_type": "code",
      "execution_count": null,
      "metadata": {
        "id": "A9YUoF1gKybC",
        "colab": {
          "base_uri": "https://localhost:8080/"
        },
        "outputId": "d3aedd27-d6bb-41fb-c5ff-3e0e66b9893a"
      },
      "outputs": [
        {
          "output_type": "stream",
          "name": "stdout",
          "text": [
            "Enter a number: -1\n",
            "Negative\n"
          ]
        }
      ],
      "source": [
        "# Get user input\n",
        "number = int(input(\"Enter a number: \"))\n",
        "\n",
        "if number >= 0:\n",
        "  print(\"Positive\")\n",
        "else:\n",
        "  print(\"Negative\")"
      ]
    },
    {
      "cell_type": "markdown",
      "source": [
        "Example 2: Grade Checker\n",
        "\n",
        "A >= 70\\\n",
        "B >= 60\\\n",
        "..."
      ],
      "metadata": {
        "id": "zgG67qasQNla"
      }
    },
    {
      "cell_type": "code",
      "source": [
        "# Get score\n",
        "score = int(input(\"Enter score: \"))\n",
        "\n",
        "if score >= 70:\n",
        "  print(\"A\")\n",
        "elif score >= 60:\n",
        "  print(\"B\")\n",
        "elif score >= 55:\n",
        "  print(\"C\")\n",
        "else:\n",
        "  print(\"D\")"
      ],
      "metadata": {
        "id": "qjCdSDw9QkVt",
        "colab": {
          "base_uri": "https://localhost:8080/"
        },
        "outputId": "4ea4779b-aaef-49bc-bf18-fa607684d651"
      },
      "execution_count": null,
      "outputs": [
        {
          "output_type": "stream",
          "name": "stdout",
          "text": [
            "Enter score: 54\n",
            "D\n"
          ]
        }
      ]
    },
    {
      "cell_type": "markdown",
      "source": [
        "# Loops"
      ],
      "metadata": {
        "id": "b5OloUWHP0jo"
      }
    },
    {
      "cell_type": "markdown",
      "source": [
        "- Allows the program to repeat tasks"
      ],
      "metadata": {
        "id": "4FhVbPlLQHw7"
      }
    },
    {
      "cell_type": "markdown",
      "source": [
        "## For Loops"
      ],
      "metadata": {
        "id": "bDYZlet-Rqf8"
      }
    },
    {
      "cell_type": "markdown",
      "source": [
        "Let's say we want to print numbers from 1 to 10"
      ],
      "metadata": {
        "id": "2lEWbhqGRDpQ"
      }
    },
    {
      "cell_type": "code",
      "source": [
        "print(1)\n",
        "print(2)\n",
        "# ...\n",
        "print(10)"
      ],
      "metadata": {
        "id": "-sgUgbyHriMd"
      },
      "execution_count": null,
      "outputs": []
    },
    {
      "cell_type": "code",
      "source": [
        "# For loop\n",
        "for i in range(1, 10+1):\n",
        "  print(i)"
      ],
      "metadata": {
        "id": "codnOrscQ5Ga",
        "colab": {
          "base_uri": "https://localhost:8080/"
        },
        "outputId": "6ad2efcb-4e4b-4ee4-8cec-a24c31063bc5"
      },
      "execution_count": null,
      "outputs": [
        {
          "output_type": "stream",
          "name": "stdout",
          "text": [
            "1\n",
            "2\n",
            "3\n",
            "4\n",
            "5\n",
            "6\n",
            "7\n",
            "8\n",
            "9\n",
            "10\n"
          ]
        }
      ]
    },
    {
      "cell_type": "markdown",
      "source": [
        "But what if I want to print 10 to 20 instead"
      ],
      "metadata": {
        "id": "wQ1F0nkJRTNb"
      }
    },
    {
      "cell_type": "code",
      "source": [
        "# For loop\n",
        "for i in range(10, 20+1):\n",
        "  print(i)"
      ],
      "metadata": {
        "id": "Z1qp60XERYbv",
        "colab": {
          "base_uri": "https://localhost:8080/"
        },
        "outputId": "0506eb55-ad88-4bcb-ab66-4c73d938388c"
      },
      "execution_count": null,
      "outputs": [
        {
          "output_type": "stream",
          "name": "stdout",
          "text": [
            "10\n",
            "11\n",
            "12\n",
            "13\n",
            "14\n",
            "15\n",
            "16\n",
            "17\n",
            "18\n",
            "19\n",
            "20\n"
          ]
        }
      ]
    },
    {
      "cell_type": "markdown",
      "source": [
        "In increments of 2?"
      ],
      "metadata": {
        "id": "3-A8d4vZRY-p"
      }
    },
    {
      "cell_type": "code",
      "source": [
        "# For loop\n",
        "for i in range(10, 20+1, 3):\n",
        "  print(i)"
      ],
      "metadata": {
        "id": "e7K0I0oLRm1X",
        "colab": {
          "base_uri": "https://localhost:8080/"
        },
        "outputId": "3638ca01-6408-441e-e312-07481e37fad3"
      },
      "execution_count": null,
      "outputs": [
        {
          "output_type": "stream",
          "name": "stdout",
          "text": [
            "10\n",
            "13\n",
            "16\n",
            "19\n"
          ]
        }
      ]
    },
    {
      "cell_type": "markdown",
      "source": [
        "Stops if number > 15"
      ],
      "metadata": {
        "id": "fiFpU4Gma7de"
      }
    },
    {
      "cell_type": "code",
      "source": [
        "for i in range(10, 20+1):\n",
        "  if i > 15:\n",
        "    break\n",
        "  print(i)\n"
      ],
      "metadata": {
        "id": "Molc9nJgtAo9",
        "colab": {
          "base_uri": "https://localhost:8080/"
        },
        "outputId": "ae3473e4-5417-4e9d-940d-01eef09a6a49"
      },
      "execution_count": null,
      "outputs": [
        {
          "output_type": "stream",
          "name": "stdout",
          "text": [
            "10\n",
            "11\n",
            "12\n",
            "13\n",
            "14\n",
            "15\n"
          ]
        }
      ]
    },
    {
      "cell_type": "markdown",
      "source": [
        "## While Loops"
      ],
      "metadata": {
        "id": "PoEZ5yfXRnA0"
      }
    },
    {
      "cell_type": "markdown",
      "source": [
        "- The loop runs as long as the condition for the while loop is **True**"
      ],
      "metadata": {
        "id": "p8qKPaqkRuCd"
      }
    },
    {
      "cell_type": "markdown",
      "source": [
        "To print numbers from 1 to 10,"
      ],
      "metadata": {
        "id": "-X6kL5SqSGbu"
      }
    },
    {
      "cell_type": "code",
      "source": [
        "number = 1\n",
        "while True:\n",
        "  if number <= 10:\n",
        "    print(number)\n",
        "    number += 1\n",
        "  else:\n",
        "    break"
      ],
      "metadata": {
        "id": "_T2pvdQJR8mV"
      },
      "execution_count": null,
      "outputs": []
    },
    {
      "cell_type": "code",
      "source": [
        "number = 1\n",
        "while number <= 10:\n",
        "  print(number)\n",
        "  number += 1"
      ],
      "metadata": {
        "id": "M1HNEBSiyCEa"
      },
      "execution_count": null,
      "outputs": []
    },
    {
      "cell_type": "markdown",
      "source": [
        "Note: In general, while a while and for loop can be used interchangeably,\\\n",
        "While loops is used when we **do NOT know** how many times we are repeating an action,\\\n",
        "For loops are used when we know how many times we want to repeat the action"
      ],
      "metadata": {
        "id": "1x6rhSEESZio"
      }
    }
  ]
}